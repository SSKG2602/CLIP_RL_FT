{
 "cells": [
  {
   "cell_type": "code",
   "execution_count": null,
   "metadata": {},
   "outputs": [],
   "source": [
    "# test_clip_rl.ipynb\n",
    "\n",
    "import torch\n",
    "from torch.utils.data import DataLoader\n",
    "from transformers import CLIPProcessor, CLIPModel\n",
    "from datasets import load_dataset\n",
    "\n",
    "# Load the fine-tuned model and processor\n",
    "clip_model = CLIPModel.from_pretrained(\"clip_rl_finetuned\")#arange path from mentined model file\n",
    "clip_processor = CLIPProcessor.from_pretrained(\"clip_rl_finetuned_processor\")##arange path from mentined model file\n",
    "clip_model.to(device)\n",
    "clip_model.eval()\n",
    "\n",
    "# Load the dataset\n",
    "dataset = load_dataset(\"JotDe/mscoco_100k\")\n",
    "_, _, test_dataset = random_split(dataset['train'], [int(0.8 * len(dataset['train'])), int(0.1 * len(dataset['train'])), len(dataset['train']) - int(0.8 * len(dataset['train'])) - int(0.1 * len(dataset['train']))])\n",
    "\n",
    "def preprocess_data(batch):\n",
    "    images = [item['image'] for item in batch]\n",
    "    texts = [item['text'] for item in batch]\n",
    "    inputs = clip_processor(text=texts, images=images, return_tensors=\"pt\", padding=True).to(device)\n",
    "    return {\"input_ids\": inputs[\"input_ids\"], \"pixel_values\": inputs[\"pixel_values\"]}\n",
    "\n",
    "test_dataloader = DataLoader(test_dataset, batch_size=32, shuffle=False, collate_fn=preprocess_data)\n",
    "\n",
    "# Evaluate on the test set\n",
    "correct = 0\n",
    "total = 0\n",
    "print(\"Starting testing...\")\n",
    "\n",
    "with torch.no_grad():\n",
    "    for batch in test_dataloader:\n",
    "        outputs = clip_model(**batch)\n",
    "        logits = outputs.logits_per_image\n",
    "        predictions = torch.argmax(logits, dim=1)\n",
    "        labels = torch.arange(len(logits)).to(device)\n",
    "\n",
    "        correct += (predictions == labels).sum().item()\n",
    "        total += len(labels)\n",
    "\n",
    "accuracy = correct / total\n",
    "print(f\"Test Accuracy: {accuracy:.4f}\")\n"
   ]
  }
 ],
 "metadata": {
  "kernelspec": {
   "display_name": "env_pytorch",
   "language": "python",
   "name": "python3"
  },
  "language_info": {
   "name": "python",
   "version": "3.9.20"
  }
 },
 "nbformat": 4,
 "nbformat_minor": 2
}
